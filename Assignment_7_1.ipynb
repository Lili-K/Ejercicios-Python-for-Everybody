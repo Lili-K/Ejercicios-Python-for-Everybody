{
  "nbformat": 4,
  "nbformat_minor": 0,
  "metadata": {
    "colab": {
      "name": "Assignment_7.1",
      "provenance": [],
      "authorship_tag": "ABX9TyM/nyLdNhT01ERjcAelvVoH",
      "include_colab_link": true
    },
    "kernelspec": {
      "name": "python3",
      "display_name": "Python 3"
    },
    "language_info": {
      "name": "python"
    }
  },
  "cells": [
    {
      "cell_type": "markdown",
      "metadata": {
        "id": "view-in-github",
        "colab_type": "text"
      },
      "source": [
        "<a href=\"https://colab.research.google.com/github/Lili-K/Ejercicios-Python-for-Everybody/blob/main/Assignment_7_1.ipynb\" target=\"_parent\"><img src=\"https://colab.research.google.com/assets/colab-badge.svg\" alt=\"Open In Colab\"/></a>"
      ]
    },
    {
      "cell_type": "markdown",
      "metadata": {
        "id": "chuXsrAaotm-"
      },
      "source": [
        "#  **Python For Everybody**\n",
        "###  Assignment 7.1 \n",
        "*1. Write a program that prompts for a file name, then opens that file and reads through the file, and print the contents of the file in upper case. \n",
        "Use this file: [https://www.py4e.com/code3/words.txt?PHPSESSID=6f90930360c9bc6938a21e3bd0ce3a5c](https://)"
      ]
    },
    {
      "cell_type": "code",
      "metadata": {
        "id": "NnCKPSlhr0sp"
      },
      "source": [
        "fname = input(\"Enter file name: \")\n",
        "fh = open(fname)\n",
        "linesFile = fh.readlines()\n",
        "for lines in linesFile:\n",
        "    lines = lines.rstrip()\n",
        "    lines =lines.upper()\n",
        "    print (lines)"
      ],
      "execution_count": null,
      "outputs": []
    }
  ]
}