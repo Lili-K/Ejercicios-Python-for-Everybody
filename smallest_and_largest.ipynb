{
  "nbformat": 4,
  "nbformat_minor": 0,
  "metadata": {
    "colab": {
      "name": "smallest_and_largest.ipynb",
      "provenance": [],
      "collapsed_sections": []
    },
    "kernelspec": {
      "name": "python3",
      "display_name": "Python 3"
    },
    "language_info": {
      "name": "python"
    }
  },
  "cells": [
    {
      "cell_type": "code",
      "metadata": {
        "id": "ZV1_3RJIHvHt"
      },
      "source": [
        "#Write a program that repeatedly prompts a user for integer numbers until the user enters 'done'. \n",
        "#Once 'done' is entered, print out the largest and smallest of the numbers.\n",
        "#If the user enters anything other than a valid number catch it with a try/except and put out an appropriate message and ignore the number.\n",
        "# Enter 7, 2, bob, 10, and 4 and match the output below.\n",
        "\n",
        "numeros_ingresados=[]\n",
        "while True:\n",
        "    inp = input(\"Enter a number: \")\n",
        "    if inp == \"done\" : break\n",
        "    isnumero=True\n",
        "    try:\n",
        "      num= int(inp)\n",
        "    except:\n",
        "      isnumero=False\n",
        "      print(\"Invalid input\")\n",
        "    if isnumero: \n",
        "      #Se agregan el numero a la lista\n",
        "      numeros_ingresados.append(num)\n",
        "if len(numeros_ingresados) > 0:\n",
        "  largest=numeros_ingresados[0]\n",
        "  smallest=numeros_ingresados[0]\n",
        "  for i in numeros_ingresados:\n",
        "    if largest > i:\n",
        "      continue\n",
        "    else:\n",
        "      largest=i\n",
        "  print(\"Maximun is\", largest)\n",
        "\n",
        "  for i in numeros_ingresados:\n",
        "    if smallest < i:\n",
        "      continue\n",
        "    else:\n",
        "      smallest=i\n",
        "  print(\"Minimum is\", smallest)\n",
        "else:\n",
        "  print(\"Error\")\n",
        "\n",
        "\n",
        "\n",
        "\n",
        "\n",
        "     \n",
        "\n",
        "\n",
        "\n",
        "\n",
        "\n",
        "\n"
      ],
      "execution_count": null,
      "outputs": []
    }
  ]
}