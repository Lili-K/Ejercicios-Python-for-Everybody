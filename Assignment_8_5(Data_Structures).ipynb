{
  "nbformat": 4,
  "nbformat_minor": 0,
  "metadata": {
    "colab": {
      "name": "Assignment_8.5(Data Structures).ipynb",
      "provenance": [],
      "collapsed_sections": [],
      "authorship_tag": "ABX9TyOzPPdWJpILRhXXEfcYx84a",
      "include_colab_link": true
    },
    "kernelspec": {
      "name": "python3",
      "display_name": "Python 3"
    },
    "language_info": {
      "name": "python"
    }
  },
  "cells": [
    {
      "cell_type": "markdown",
      "metadata": {
        "id": "view-in-github",
        "colab_type": "text"
      },
      "source": [
        "<a href=\"https://colab.research.google.com/github/Lili-K/Ejercicios-Python-for-Everybody/blob/main/Assignment_8_5(Data_Structures).ipynb\" target=\"_parent\"><img src=\"https://colab.research.google.com/assets/colab-badge.svg\" alt=\"Open In Colab\"/></a>"
      ]
    },
    {
      "cell_type": "markdown",
      "metadata": {
        "id": "3XrdsNznUCln"
      },
      "source": [
        "# <center> <h1>  **Python For Everybody (Data Structures)**</h1> </center> \n",
        "###### <center> <h1> ** Assignment 8.5 ** </h1> </center>\n",
        "8.5 Open the file mbox-short.txt and read it line by line. When you find a line that starts with 'From ' like the following line:\n",
        "- From stephen.marquard@uct.ac.za Sat Jan  5 09:14:16 2008 \n",
        "\n",
        "You will parse the From line using split() and print out the second word in the line (i.e. the entire address of the person who sent the message). Then print out a count at the end.\n",
        "Hint: make sure not to include the lines that start with 'From:'. Also look at the last line of the sample output to see how to print the count.\n",
        "\n",
        "You can download the sample data at http://www.py4e.com/code3/mbox-short.txt"
      ]
    },
    {
      "cell_type": "code",
      "metadata": {
        "id": "W9AHhyrSWXt8"
      },
      "source": [
        "fname = input(\"Enter file name: \")\n",
        "if len(fname) < 1:\n",
        "    fname = \"mbox-short.txt\"\n",
        "\n",
        "fh = open(fname)\n",
        "count = 0\n",
        "for line in fh:\n",
        "    if not line.startswith(\"From:\"):\n",
        "        continue\n",
        "    count=count+1\n",
        "    emails=line.split()\n",
        "    print(emails[1])\n",
        "        \n",
        "print(\"There were\", count, \"lines in the file with From as the first word\")\n"
      ],
      "execution_count": null,
      "outputs": []
    },
    {
      "cell_type": "markdown",
      "metadata": {
        "id": "Vky9AFNs5s3B"
      },
      "source": [
        "**Desired Output**\n",
        "\n",
        "stephen.marquard@uct.ac.za                                                                             \n",
        "louis@media.berkeley.edu                                                             \n",
        "zqian@umich.edu                                                                  \n",
        "rjlowe@iupui.edu                                                                       \n",
        "zqian@umich.edu                                                                       \n",
        "rjlowe@iupui.edu                                                                 \n",
        "cwen@iupui.edu                                                                       \n",
        "cwen@iupui.edu                                                                   \n",
        "gsilver@umich.edu                                                                    \n",
        "gsilver@umich.edu                                                                       \n",
        "zqian@umich.edu                                                                  \n",
        "gsilver@umich.edu                                                                       \n",
        "wagnermr@iupui.edu                                                                              \n",
        "zqian@umich.edu                                                                    \n",
        "antranig@caret.cam.ac.uk                                                              \n",
        "gopal.ramasammycook@gmail.com                                                          \n",
        "david.horwitz@uct.ac.za                                                                                \n",
        "david.horwitz@uct.ac.za                                                          \n",
        "david.horwitz@uct.ac.za                                                               \n",
        "david.horwitz@uct.ac.za                                                               \n",
        "stephen.marquard@uct.ac.za                                                                 \n",
        "louis@media.berkeley.edu                                                               \n",
        "louis@media.berkeley.edu                                                                                        \n",
        "ray@media.berkeley.edu                                                              \n",
        "cwen@iupui.edu                                                                             \n",
        "cwen@iupui.edu                                                                    \n",
        "cwen@iupui.edu                                                                      \n",
        "There were 27 lines in the file with From as the first word"
      ]
    }
  ]
}