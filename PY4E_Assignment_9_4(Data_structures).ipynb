{
  "nbformat": 4,
  "nbformat_minor": 0,
  "metadata": {
    "colab": {
      "name": "PY4E_Assignment 9.4(Data structures)",
      "provenance": [],
      "collapsed_sections": []
    },
    "kernelspec": {
      "name": "python3",
      "display_name": "Python 3"
    },
    "language_info": {
      "name": "python"
    }
  },
  "cells": [
    {
      "cell_type": "markdown",
      "metadata": {
        "id": "YkgJq8N31ocJ"
      },
      "source": [
        " #  **Python For Everybody (Data Structures)** \n",
        " ## **Assignment 9.4**\n",
        "\n",
        "Write a program to read through the mbox-short.txt and figure out who has sent the greatest number of mail messages. The program looks for 'From ' lines and takes the second word of those lines as the person who sent the mail. The program creates a Python dictionary that maps the sender's mail address to a count of the number of times they appear in the file. After the dictionary is produced, the program reads through the dictionary using a maximum loop to find the most prolific committer.\n",
        "\n",
        "**Desired Output:**\n",
        " \n",
        " cwen@iupui.edu 5\n",
        "\n",
        "\n"
      ]
    },
    {
      "cell_type": "code",
      "metadata": {
        "id": "WD9cVFta4iSQ"
      },
      "source": [
        "\n",
        "name_file=input(\"Enter the file name\")\n",
        "handle=open(name_file)\n",
        "counts=dict ()\n",
        "all_emails=list()\n",
        "for line in handle:\n",
        "  if line.startswith(\"From:\"):\n",
        "      words=line.split()\n",
        "      emails=words[1]\n",
        "      all_emails.append(emails)\n",
        "for i in all_emails:\n",
        "  counts[i]=counts.get(i,0)+1\n",
        "bigcount=None\n",
        "bigword=None \n",
        "for word,count in counts.items():\n",
        "  if bigcount is None or count > bigcount:\n",
        "    bigword=word\n",
        "    bigcount=count\n",
        "print(bigword,bigcount)"
      ],
      "execution_count": null,
      "outputs": []
    }
  ]
}