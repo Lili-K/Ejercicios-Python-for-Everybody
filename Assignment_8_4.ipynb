{
  "nbformat": 4,
  "nbformat_minor": 0,
  "metadata": {
    "colab": {
      "name": "Assignment 8.4.ipynb",
      "provenance": [],
      "collapsed_sections": [],
      "authorship_tag": "ABX9TyOT0I9CzbcR7CvhioTf29jB",
      "include_colab_link": true
    },
    "kernelspec": {
      "name": "python3",
      "display_name": "Python 3"
    },
    "language_info": {
      "name": "python"
    }
  },
  "cells": [
    {
      "cell_type": "markdown",
      "metadata": {
        "id": "view-in-github",
        "colab_type": "text"
      },
      "source": [
        "<a href=\"https://colab.research.google.com/github/Lili-K/Ejercicios-Python-for-Everybody/blob/main/Assignment_8_4.ipynb\" target=\"_parent\"><img src=\"https://colab.research.google.com/assets/colab-badge.svg\" alt=\"Open In Colab\"/></a>"
      ]
    },
    {
      "cell_type": "markdown",
      "metadata": {
        "id": "3Eo-Hqb76tfM"
      },
      "source": [
        "# ***Python For Everybody***\n",
        "### **Assignment 8.4**\n",
        "Open the file romeo.txt and read it line by line. For each line, split the line into a list of words using the split() method. The program should build a list of words. For each word on each line check to see if the word is already in the list and if not append it to the list. When the program completes, sort and print the resulting words in alphabetical order.\n",
        "You can download the sample data at [http://www.py4e.com/code3/romeo.txt](https://)"
      ]
    },
    {
      "cell_type": "code",
      "metadata": {
        "id": "rpreQzTZRgd-"
      },
      "source": [
        "fname = input(\"Enter file name: \")\n",
        "fh = open(fname)\n",
        "palabras=list()\n",
        "linesFile = fh.readlines()\n",
        "for lines in linesFile:\n",
        "    lines=lines.rstrip()\n",
        "    palabras.append(lines)\n",
        "    lines = lines.split()\n",
        "cadena = \" \".join(palabras)\n",
        "lista=cadena.split()\n",
        "lista.sort()\n",
        "\n",
        "print(list(set(lista)))"
      ],
      "execution_count": null,
      "outputs": []
    }
  ]
}