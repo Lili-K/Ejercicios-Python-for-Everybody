{
  "nbformat": 4,
  "nbformat_minor": 0,
  "metadata": {
    "colab": {
      "name": "Assignment7.2_PY4E(Data Structures).ipynb",
      "provenance": [],
      "collapsed_sections": [],
      "authorship_tag": "ABX9TyOmnEZop3GV6jI6D8kinbkW",
      "include_colab_link": true
    },
    "kernelspec": {
      "name": "python3",
      "display_name": "Python 3"
    },
    "language_info": {
      "name": "python"
    }
  },
  "cells": [
    {
      "cell_type": "markdown",
      "metadata": {
        "id": "view-in-github",
        "colab_type": "text"
      },
      "source": [
        "<a href=\"https://colab.research.google.com/github/Lili-K/Ejercicios-Python-for-Everybody/blob/main/Assignment7_2_PY4E(Data_Structures).ipynb\" target=\"_parent\"><img src=\"https://colab.research.google.com/assets/colab-badge.svg\" alt=\"Open In Colab\"/></a>"
      ]
    },
    {
      "cell_type": "markdown",
      "metadata": {
        "id": "nDX5HdpTVqfo"
      },
      "source": [
        "#**Python From Everybody (Data Structures)**\n",
        "##**Assignment 7.2**\n",
        "\n",
        "7.2 Write a program that prompts for a file name, then opens that file and reads through the file, looking for lines of the form:\n",
        "\n",
        "**X-DSPAM-Confidence:    0.8475**\n",
        "\n",
        "Count these lines and extract the floating point values from each of the lines and compute the average of those values and produce an output as shown below. Do not use the sum() function or a variable named sum in your solution.\n",
        "You can download the sample data at http://www.py4e.com/code3/mbox-short.txt  \n",
        "When you are testing below enter mbox-short.txt as the file name.\n",
        "\n",
        "**Desired Output:**\n",
        "\n",
        "Average spam confidence: 0.7507185185185187"
      ]
    },
    {
      "cell_type": "code",
      "metadata": {
        "id": "RzjLvAUeVsaz"
      },
      "source": [
        "fname = input(\"Enter file name: \")\n",
        "fh = open(fname)\n",
        "all_items=list()\n",
        "count=0\n",
        "for line in fh:\n",
        "    line=line.strip()\n",
        "    if not line.startswith(\"X-DSPAM-Confidence:\"):\n",
        "        continue\n",
        "    count=count+1\n",
        "    all_items.append(line[20:])\n",
        "\n",
        "b= [float(x) for x in all_items]\n",
        "m=0\n",
        "for i in b:\n",
        "    m=m+i\n",
        "average=m/count\n",
        "print(\"Average spam confidence:\", average)\n",
        "\n"
      ],
      "execution_count": null,
      "outputs": []
    }
  ]
}