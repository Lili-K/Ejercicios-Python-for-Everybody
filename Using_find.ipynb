{
  "nbformat": 4,
  "nbformat_minor": 0,
  "metadata": {
    "colab": {
      "name": "Using_find.ipynb",
      "provenance": []
    },
    "kernelspec": {
      "name": "python3",
      "display_name": "Python 3"
    },
    "language_info": {
      "name": "python"
    }
  },
  "cells": [
    {
      "cell_type": "code",
      "metadata": {
        "colab": {
          "base_uri": "https://localhost:8080/"
        },
        "id": "RUKJecAB6UX0",
        "outputId": "2f237bb7-0a21-441d-fb05-bff5a40f99ba"
      },
      "source": [
        "# Write code using find() and string slicing to extract the number at the end of the line below.\n",
        "# Convert the extracted value to a floating point number and print it out.\n",
        "text = \"X-DSPAM-Confidence:    0.8475\"\n",
        "num=text.find(\"0\")\n",
        "numend=text.find(\"5\")\n",
        "result=(text[num:numend+1])\n",
        "print(float(result))"
      ],
      "execution_count": 4,
      "outputs": [
        {
          "output_type": "stream",
          "text": [
            "0.8475\n"
          ],
          "name": "stdout"
        }
      ]
    }
  ]
}